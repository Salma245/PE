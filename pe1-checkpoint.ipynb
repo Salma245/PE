{
 "cells": [
  {
   "cell_type": "code",
   "execution_count": 23,
   "id": "0e6f339d",
   "metadata": {},
   "outputs": [],
   "source": [
    "import pandas as pd\n",
    "import numpy as np\n",
    "from IPython.display import display, HTML"
   ]
  },
  {
   "cell_type": "code",
   "execution_count": 35,
   "id": "06c11b7c",
   "metadata": {},
   "outputs": [
    {
     "name": "stdout",
     "output_type": "stream",
     "text": [
      "Enter the no.of documents:4\n",
      "Enter the content in document1:breakthrough drug for schizophrenia\n",
      "Enter the content in document2:new schizophrenia drug\n",
      "Enter the content in document3:new approach for treatment of schizophrenia\n",
      "Enter the content in document4:new hopes for schizophrenia patients\n",
      "['breakthrough drug for schizophrenia', 'new schizophrenia drug', 'new approach for treatment of schizophrenia', 'new hopes for schizophrenia patients']\n"
     ]
    }
   ],
   "source": [
    "n=int(input(\"Enter the no.of documents:\"))\n",
    "docs=[]\n",
    "for i in range(n):\n",
    "    doc=input(f\"Enter the content in document{i+1}:\")\n",
    "    docs.append(doc)\n",
    "print(docs)"
   ]
  },
  {
   "cell_type": "code",
   "execution_count": 42,
   "id": "14ca72b4",
   "metadata": {},
   "outputs": [],
   "source": [
    "unique=[]\n",
    "for doc in docs:\n",
    "    for term in doc.split():\n",
    "        if term not in unique:\n",
    "            unique.append(term)\n",
    "            \n",
    "unique=sorted(set(unique))"
   ]
  },
  {
   "cell_type": "code",
   "execution_count": 43,
   "id": "45cc801c",
   "metadata": {},
   "outputs": [
    {
     "data": {
      "text/html": [
       "<table border=\"1\" class=\"dataframe\">\n",
       "  <thead>\n",
       "    <tr style=\"text-align: right;\">\n",
       "      <th>Terms</th>\n",
       "      <th>Doc1</th>\n",
       "      <th>Doc2</th>\n",
       "      <th>Doc3</th>\n",
       "      <th>Doc4</th>\n",
       "    </tr>\n",
       "  </thead>\n",
       "  <tbody>\n",
       "    <tr>\n",
       "      <td>approach</td>\n",
       "      <td>0</td>\n",
       "      <td>0</td>\n",
       "      <td>1</td>\n",
       "      <td>0</td>\n",
       "    </tr>\n",
       "    <tr>\n",
       "      <td>breakthrough</td>\n",
       "      <td>1</td>\n",
       "      <td>0</td>\n",
       "      <td>0</td>\n",
       "      <td>0</td>\n",
       "    </tr>\n",
       "    <tr>\n",
       "      <td>drug</td>\n",
       "      <td>1</td>\n",
       "      <td>1</td>\n",
       "      <td>0</td>\n",
       "      <td>0</td>\n",
       "    </tr>\n",
       "    <tr>\n",
       "      <td>for</td>\n",
       "      <td>1</td>\n",
       "      <td>0</td>\n",
       "      <td>1</td>\n",
       "      <td>1</td>\n",
       "    </tr>\n",
       "    <tr>\n",
       "      <td>hopes</td>\n",
       "      <td>0</td>\n",
       "      <td>0</td>\n",
       "      <td>0</td>\n",
       "      <td>1</td>\n",
       "    </tr>\n",
       "    <tr>\n",
       "      <td>new</td>\n",
       "      <td>0</td>\n",
       "      <td>1</td>\n",
       "      <td>1</td>\n",
       "      <td>1</td>\n",
       "    </tr>\n",
       "    <tr>\n",
       "      <td>of</td>\n",
       "      <td>0</td>\n",
       "      <td>0</td>\n",
       "      <td>1</td>\n",
       "      <td>0</td>\n",
       "    </tr>\n",
       "    <tr>\n",
       "      <td>patients</td>\n",
       "      <td>0</td>\n",
       "      <td>0</td>\n",
       "      <td>0</td>\n",
       "      <td>1</td>\n",
       "    </tr>\n",
       "    <tr>\n",
       "      <td>schizophrenia</td>\n",
       "      <td>1</td>\n",
       "      <td>1</td>\n",
       "      <td>1</td>\n",
       "      <td>1</td>\n",
       "    </tr>\n",
       "    <tr>\n",
       "      <td>treatment</td>\n",
       "      <td>0</td>\n",
       "      <td>0</td>\n",
       "      <td>1</td>\n",
       "      <td>0</td>\n",
       "    </tr>\n",
       "  </tbody>\n",
       "</table>"
      ],
      "text/plain": [
       "<IPython.core.display.HTML object>"
      ]
     },
     "metadata": {},
     "output_type": "display_data"
    }
   ],
   "source": [
    "mat = np.zeros((len(unique), n), dtype=int)\n",
    "\n",
    "for i in range(len(unique)):\n",
    "    for j in range(len(docs)):\n",
    "        if unique[i] in docs[j]:\n",
    "            mat[i, j] = 1\n",
    "data = {\"Terms\":unique}\n",
    "for i in range(n):\n",
    "    data[f\"Doc{i+1}\"] = mat[:, i]\n",
    "df = pd.DataFrame(data)\n",
    "display(HTML(df.to_html(index=False)))"
   ]
  },
  {
   "cell_type": "code",
   "execution_count": null,
   "id": "abe69c78",
   "metadata": {},
   "outputs": [],
   "source": []
  }
 ],
 "metadata": {
  "kernelspec": {
   "display_name": "Python 3 (ipykernel)",
   "language": "python",
   "name": "python3"
  },
  "language_info": {
   "codemirror_mode": {
    "name": "ipython",
    "version": 3
   },
   "file_extension": ".py",
   "mimetype": "text/x-python",
   "name": "python",
   "nbconvert_exporter": "python",
   "pygments_lexer": "ipython3",
   "version": "3.11.3"
  }
 },
 "nbformat": 4,
 "nbformat_minor": 5
}
