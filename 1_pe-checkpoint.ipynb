{
 "cells": [
  {
   "cell_type": "code",
   "execution_count": 1,
   "id": "d6e27b38",
   "metadata": {},
   "outputs": [
    {
     "name": "stdout",
     "output_type": "stream",
     "text": [
      "Enter the no.of documents:4\n",
      "Enter the content in document1:breakthrough drug for schizophrenia\n",
      "Enter the content in document2:new schizophrenia drug\n",
      "Enter the content in document3:new approach for treatment of schizophrenia\n",
      "Enter the content in document4:new hopes for schizophrenia patients\n",
      "['breakthrough drug for schizophrenia', 'new schizophrenia drug', 'new approach for treatment of schizophrenia', 'new hopes for schizophrenia patients']\n"
     ]
    }
   ],
   "source": [
    "#creating term document\n",
    "n=int(input(\"Enter the no.of documents:\"))\n",
    "docs=[]\n",
    "for i in range(n):\n",
    "    doc=input(f\"Enter the content in document{i+1}:\")\n",
    "    docs.append(doc)\n",
    "print(docs)"
   ]
  },
  {
   "cell_type": "code",
   "execution_count": 2,
   "id": "3857d6a3",
   "metadata": {},
   "outputs": [
    {
     "name": "stdout",
     "output_type": "stream",
     "text": [
      "{'breakthrough', 'hopes', 'drug', 'of', 'schizophrenia', 'treatment', 'new', 'patients', 'approach', 'for'}\n"
     ]
    }
   ],
   "source": [
    "#unique terms\n",
    "unique=[]\n",
    "for doc in docs:\n",
    "    for term in doc.split():\n",
    "        if term not in unique:\n",
    "            unique.append(term)\n",
    "            \n",
    "print(set(unique))"
   ]
  },
  {
   "cell_type": "code",
   "execution_count": 3,
   "id": "c0fb9812",
   "metadata": {},
   "outputs": [
    {
     "name": "stdout",
     "output_type": "stream",
     "text": [
      "{'breakthrough': [1, 0, 0, 0], 'drug': [1, 1, 0, 0], 'for': [1, 0, 1, 1], 'schizophrenia': [1, 1, 1, 1], 'new': [0, 1, 1, 1], 'approach': [0, 0, 1, 0], 'treatment': [0, 0, 1, 0], 'of': [0, 0, 1, 0], 'hopes': [0, 0, 0, 1], 'patients': [0, 0, 0, 1]}\n"
     ]
    }
   ],
   "source": [
    "#incidence matrix\n",
    "lists={}\n",
    "for term in unique:\n",
    "    lists[term]=[]\n",
    "    for doc in docs:\n",
    "        if term in doc:\n",
    "            lists[term].append(1)\n",
    "        else:\n",
    "            lists[term].append(0)\n",
    "print(lists)"
   ]
  },
  {
   "cell_type": "code",
   "execution_count": 12,
   "id": "de43f3b5",
   "metadata": {},
   "outputs": [
    {
     "name": "stdout",
     "output_type": "stream",
     "text": [
      "Enter the no.of terms to find its bool:3\n",
      "Enter the first term:schizophrenia\n",
      "Enter the one more termdrug\n",
      "Enter the operation:and\n",
      "Enter the one more termfor\n",
      "Enter the operation:not\n",
      "[0 1 0 0]\n"
     ]
    }
   ],
   "source": [
    "#boolean\n",
    "n=int(input(\"Enter the no.of terms to find its bool:\"))\n",
    "lis=[]\n",
    "\n",
    "a=input(f\"Enter the first term:\")\n",
    "b=input(f\"Enter the one more term\")\n",
    "op=input(\"Enter the operation:\")\n",
    "if a and b in lists:\n",
    "    if op=='and':\n",
    "        res=np.array(lists[a]) & np.array(lists[b])\n",
    "    elif op=='or':\n",
    "        res=np.array(lists[a]) | np.array(lists[b])\n",
    "    else:\n",
    "        res=np.array(lists[a]) & (~(np.array(lists[b])))\n",
    "for i in range(n-2):\n",
    "    a=res\n",
    "    b=input(f\"Enter the one more term\")\n",
    "    op=input(\"Enter the operation:\")\n",
    "    if op=='and':\n",
    "        res=a & np.array(lists[b])\n",
    "    elif op=='or':\n",
    "        res=a | np.array(lists[b])\n",
    "    else:\n",
    "        res=a & (~(np.array(lists[b])))     \n",
    "print(res)\n",
    "    "
   ]
  },
  {
   "cell_type": "code",
   "execution_count": 5,
   "id": "74c3aeaf",
   "metadata": {},
   "outputs": [],
   "source": [
    "import numpy as np"
   ]
  }
 ],
 "metadata": {
  "kernelspec": {
   "display_name": "Python 3 (ipykernel)",
   "language": "python",
   "name": "python3"
  },
  "language_info": {
   "codemirror_mode": {
    "name": "ipython",
    "version": 3
   },
   "file_extension": ".py",
   "mimetype": "text/x-python",
   "name": "python",
   "nbconvert_exporter": "python",
   "pygments_lexer": "ipython3",
   "version": "3.11.3"
  }
 },
 "nbformat": 4,
 "nbformat_minor": 5
}
